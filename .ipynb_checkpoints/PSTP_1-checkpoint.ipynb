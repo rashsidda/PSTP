{
 "cells": [
  {
   "cell_type": "code",
   "execution_count": 1,
   "id": "31e933e0-ac35-4fe5-b353-d4815b536a1d",
   "metadata": {},
   "outputs": [
    {
     "name": "stdout",
     "output_type": "stream",
     "text": [
      "Hello World\n"
     ]
    }
   ],
   "source": [
    "print(\"Hello World\")"
   ]
  },
  {
   "cell_type": "code",
   "execution_count": 3,
   "id": "728af34e-25b3-4707-8170-875121ea6e1c",
   "metadata": {},
   "outputs": [
    {
     "name": "stdout",
     "output_type": "stream",
     "text": [
      "Welcome to PSTP\n"
     ]
    }
   ],
   "source": [
    "print(\"Welcome to PSTP\")"
   ]
  },
  {
   "cell_type": "code",
   "execution_count": null,
   "id": "713eb98b-4f7b-4e89-8a6c-92237af7639d",
   "metadata": {},
   "outputs": [],
   "source": [
    "print(\"Let's Learn PSTP\")"
   ]
  }
 ],
 "metadata": {
  "kernelspec": {
   "display_name": "Python 3 (ipykernel)",
   "language": "python",
   "name": "python3"
  },
  "language_info": {
   "codemirror_mode": {
    "name": "ipython",
    "version": 3
   },
   "file_extension": ".py",
   "mimetype": "text/x-python",
   "name": "python",
   "nbconvert_exporter": "python",
   "pygments_lexer": "ipython3",
   "version": "3.12.4"
  }
 },
 "nbformat": 4,
 "nbformat_minor": 5
}
