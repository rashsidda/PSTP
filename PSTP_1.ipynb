{
 "cells": [
  {
   "cell_type": "code",
   "execution_count": 1,
   "id": "31e933e0-ac35-4fe5-b353-d4815b536a1d",
   "metadata": {},
   "outputs": [
    {
     "name": "stdout",
     "output_type": "stream",
     "text": [
      "Hello World\n"
     ]
    }
   ],
   "source": [
    "print(\"Hello World\")"
   ]
  },
  {
   "cell_type": "code",
   "execution_count": 3,
   "id": "728af34e-25b3-4707-8170-875121ea6e1c",
   "metadata": {},
   "outputs": [
    {
     "name": "stdout",
     "output_type": "stream",
     "text": [
      "Welcome to PSTP\n"
     ]
    }
   ],
   "source": [
    "print(\"Welcome to PSTP\")"
   ]
  },
  {
   "cell_type": "code",
   "execution_count": 5,
   "id": "713eb98b-4f7b-4e89-8a6c-92237af7639d",
   "metadata": {},
   "outputs": [
    {
     "name": "stdout",
     "output_type": "stream",
     "text": [
      "Let's Learn PSTP\n"
     ]
    }
   ],
   "source": [
    "print(\"Let's Learn PSTP\")"
   ]
  },
  {
   "cell_type": "code",
   "execution_count": 7,
   "id": "4d3d8e5a-50d7-4c72-82c0-64034566b31d",
   "metadata": {},
   "outputs": [
    {
     "name": "stdin",
     "output_type": "stream",
     "text": [
      "Whats your Name Rashmi\n"
     ]
    },
    {
     "data": {
      "text/plain": [
       "'Rashmi'"
      ]
     },
     "execution_count": 7,
     "metadata": {},
     "output_type": "execute_result"
    }
   ],
   "source": [
    "input(\"Whats your Name\")"
   ]
  },
  {
   "cell_type": "code",
   "execution_count": 9,
   "id": "6bb94595-f17d-4d7f-a45b-522b5ea5c6de",
   "metadata": {},
   "outputs": [
    {
     "name": "stdout",
     "output_type": "stream",
     "text": [
      "Its fun teaching programming\n"
     ]
    }
   ],
   "source": [
    "print(\"Its fun teaching programming\")"
   ]
  },
  {
   "cell_type": "code",
   "execution_count": null,
   "id": "cd5a0a66-1c9a-4d88-aed1-000772b2636c",
   "metadata": {},
   "outputs": [],
   "source": []
  }
 ],
 "metadata": {
  "kernelspec": {
   "display_name": "Python 3 (ipykernel)",
   "language": "python",
   "name": "python3"
  },
  "language_info": {
   "codemirror_mode": {
    "name": "ipython",
    "version": 3
   },
   "file_extension": ".py",
   "mimetype": "text/x-python",
   "name": "python",
   "nbconvert_exporter": "python",
   "pygments_lexer": "ipython3",
   "version": "3.12.4"
  }
 },
 "nbformat": 4,
 "nbformat_minor": 5
}
